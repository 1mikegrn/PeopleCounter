{
  "nbformat": 4,
  "nbformat_minor": 0,
  "metadata": {
    "colab": {
      "name": "PeopleCounter.ipynb",
      "provenance": [],
      "collapsed_sections": []
    },
    "kernelspec": {
      "name": "python3",
      "display_name": "Python 3"
    }
  },
  "cells": [
    {
      "cell_type": "code",
      "metadata": {
        "id": "GL9FnVupgiSa",
        "colab_type": "code",
        "colab": {
          "base_uri": "https://localhost:8080/",
          "height": 185
        },
        "outputId": "52c354f2-0795-40d2-fcc3-4ec25418a76c"
      },
      "source": [
        "pip install git+https://github.com/1mikegrn/PeopleCounter"
      ],
      "execution_count": null,
      "outputs": [
        {
          "output_type": "stream",
          "text": [
            "Collecting git+https://github.com/1mikegrn/PeopleCounter\n",
            "  Cloning https://github.com/1mikegrn/PeopleCounter to /tmp/pip-req-build-n4uzv52t\n",
            "  Running command git clone -q https://github.com/1mikegrn/PeopleCounter /tmp/pip-req-build-n4uzv52t\n",
            "Building wheels for collected packages: PeopleCounter\n",
            "  Building wheel for PeopleCounter (setup.py) ... \u001b[?25l\u001b[?25hdone\n",
            "  Created wheel for PeopleCounter: filename=PeopleCounter-0.0.1-cp36-none-any.whl size=16235 sha256=feaa33406cece292dad8d0ad137eb4ac5ff0d07b455d8dc1734d2f2c94dff098\n",
            "  Stored in directory: /tmp/pip-ephem-wheel-cache-9puy3cy5/wheels/0a/f1/2c/5322a56916473c55655a0613424235de4a7c2341e01aaa3b12\n",
            "Successfully built PeopleCounter\n",
            "Installing collected packages: PeopleCounter\n",
            "Successfully installed PeopleCounter-0.0.1\n"
          ],
          "name": "stdout"
        }
      ]
    },
    {
      "cell_type": "code",
      "metadata": {
        "id": "G4-FT7aQiRxa",
        "colab_type": "code",
        "colab": {}
      },
      "source": [
        "import PeopleCounter"
      ],
      "execution_count": null,
      "outputs": []
    },
    {
      "cell_type": "code",
      "metadata": {
        "id": "e3t17Bq6iMwZ",
        "colab_type": "code",
        "colab": {
          "base_uri": "https://localhost:8080/",
          "height": 50
        },
        "outputId": "d2a93769-99be-4624-ce61-bfd8f0a71233"
      },
      "source": [
        "image_url = 'https://raw.githubusercontent.com/1mikegrn/PeopleCounter/master/images/my_screenshot.png'\n",
        "\n",
        "results = PeopleCounter.src.Counter.Counter(image_url)"
      ],
      "execution_count": null,
      "outputs": [
        {
          "output_type": "stream",
          "text": [
            "INFO:tensorflow:Saver not created because there are no variables in the graph to restore\n"
          ],
          "name": "stdout"
        },
        {
          "output_type": "stream",
          "text": [
            "INFO:tensorflow:Saver not created because there are no variables in the graph to restore\n"
          ],
          "name": "stderr"
        }
      ]
    },
    {
      "cell_type": "code",
      "metadata": {
        "id": "KMv8L37cl7xF",
        "colab_type": "code",
        "colab": {
          "base_uri": "https://localhost:8080/",
          "height": 50
        },
        "outputId": "553910bd-c32e-4efa-dcc1-016933d787fb"
      },
      "source": [
        "print(results.custom_count(['Person', 'Man', 'Woman'], thrs=0.15))\n",
        "print(results.count_people(thrs=0.2))"
      ],
      "execution_count": 20,
      "outputs": [
        {
          "output_type": "stream",
          "text": [
            "9\n",
            "6\n"
          ],
          "name": "stdout"
        }
      ]
    }
  ]
}