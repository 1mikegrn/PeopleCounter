{
  "cells": [
    {
      "cell_type": "code",
      "metadata": {
        "id": "GL9FnVupgiSa",
        "colab_type": "code",
        "colab": {
          "base_uri": "https://localhost:8080/",
          "height": 185
        },
        "outputId": "52c354f2-0795-40d2-fcc3-4ec25418a76c"
      },
      "source": [
        "pip install git+https://github.com/1mikegrn/PeopleCounter"
      ],
      "execution_count": null,
      "outputs": []
    },
    {
      "cell_type": "code",
      "metadata": {
        "id": "G4-FT7aQiRxa",
        "colab_type": "code",
        "colab": {}
      },
      "source": [
        "import PeopleCounter"
      ],
      "execution_count": null,
      "outputs": []
    },
    {
      "cell_type": "code",
      "metadata": {
        "id": "e3t17Bq6iMwZ",
        "colab_type": "code",
        "colab": {
          "base_uri": "https://localhost:8080/",
          "height": 50
        },
        "outputId": "d2a93769-99be-4624-ce61-bfd8f0a71233"
      },
      "source": [
        "image_url = 'https://raw.githubusercontent.com/1mikegrn/PeopleCounter/master/images/my_screenshot.png'\n",
        "\n",
        "results = PeopleCounter.src.Counter.Counter(image_url)"
      ],
      "execution_count": null,
      "outputs": []
    },
    {
      "cell_type": "code",
      "metadata": {
        "id": "KMv8L37cl7xF",
        "colab_type": "code",
        "colab": {
          "base_uri": "https://localhost:8080/",
          "height": 50
        },
        "outputId": "553910bd-c32e-4efa-dcc1-016933d787fb"
      },
      "source": [
        "print(results.custom_count(['Person', 'Man', 'Woman'], thrs=0.15))\n",
        "print(results.count_people(thrs=0.2))"
      ],
      "execution_count": null,
      "outputs": []
    },
    {
      "cell_type": "code",
      "execution_count": null,
      "metadata": {},
      "outputs": [],
      "source": [
        "image_url = 'https://raw.githubusercontent.com/1mikegrn/PeopleCounter/master/images/my_screenshot_150.png'\n",
        "results.new_query(image_url)\n",
        "print(results.count_people(thrs=0.1))"
      ]
    }
  ],
  "metadata": {
    "colab": {
      "name": "PeopleCounter.ipynb",
      "provenance": [],
      "collapsed_sections": []
    },
    "kernelspec": {
      "name": "python3",
      "display_name": "Python 3"
    }
  },
  "nbformat": 4,
  "nbformat_minor": 0
}